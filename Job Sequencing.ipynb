{
 "cells": [
  {
   "cell_type": "code",
   "execution_count": 2,
   "metadata": {
    "collapsed": true
   },
   "outputs": [],
   "source": [
    "import pandas as pd\n",
    "import numpy as np"
   ]
  },
  {
   "cell_type": "code",
   "execution_count": 3,
   "outputs": [],
   "source": [
    "def job_sequencing(job_id, profit, deadline, timeslots):\n",
    "    jobs_df = pd.DataFrame(np.array([job_id, profit, deadline]).T, columns=['Jobs ID', 'Profit', 'Deadline'])\n",
    "\n",
    "    #sorting by profit\n",
    "    print('Sorting jobs by Profit')\n",
    "    jobs_df.sort_values(by=['Profit', 'Jobs ID'], ascending=[False, True], inplace=True)\n",
    "    display(jobs_df)\n",
    "\n",
    "    print(f'\\nTime Slots available: {timeslots}')\n",
    "\n",
    "    t_list = [False]*timeslots\n",
    "\n",
    "    job_seq = ['-1']*timeslots\n",
    "\n",
    "    for i in range(len(job_id)):\n",
    "\n",
    "        # Find a free slot for this job\n",
    "        # (Note that we start from the\n",
    "        # last possible slot)\n",
    "        for j in range(min(timeslots - 1, int(jobs_df.iloc[i]['Deadline']) - 1), -1, -1):\n",
    "\n",
    "            # Free slot found\n",
    "            if not t_list[j]:\n",
    "                t_list[j] = True\n",
    "                job_seq[j] = jobs_df.iloc[i]['Jobs ID']\n",
    "                break\n",
    "    #job_seq = [x for x in job_seq if x != '-1']\n",
    "    slot_df = pd.DataFrame(columns=['Job', 'Slot Assigned', 'Sequence', 'Profit'])\n",
    "    profit =0\n",
    "    seq = ''\n",
    "    for job in jobs_df.values:\n",
    "        j_id = f\"Job-{job[0]}\"\n",
    "        s_a = \"Rejected as deadline can’t be met\" if job[0] not in job_seq else f\"{job_seq.index(job[0])}-{job_seq.index(job[0])+1}\"\n",
    "\n",
    "        seq = seq if job[0] not in job_seq else f\"{[x for x in job_seq if x != '-1'][:job_seq.index(job[0])+1]}\"\n",
    "\n",
    "        profit_str = str(profit) if job[0] not in job_seq else f\"{profit} + {job[1]} = {profit+int(job[1])}\"\n",
    "\n",
    "        if job[0] in job_seq:\n",
    "            profit += int(job[1])\n",
    "\n",
    "        slot_df.loc[len(slot_df.index)] = [j_id, s_a, seq, profit_str]\n",
    "\n",
    "    display(slot_df)\n",
    "\n",
    "    print(f'\\nJob Sequence is {job_seq}')\n",
    "    print(f'\\nMaximum Profit is {profit}')"
   ],
   "metadata": {
    "collapsed": false,
    "pycharm": {
     "name": "#%%\n"
    }
   }
  },
  {
   "cell_type": "code",
   "execution_count": 4,
   "outputs": [
    {
     "name": "stdout",
     "output_type": "stream",
     "text": [
      "Sorting jobs by Profit\n"
     ]
    },
    {
     "data": {
      "text/plain": "   Jobs ID  Profit  Deadline\n0        1      20         2\n1        2      15         2\n2        3      10         1\n3        4       5         3\n4        5       1         3",
      "text/html": "<div>\n<style scoped>\n    .dataframe tbody tr th:only-of-type {\n        vertical-align: middle;\n    }\n\n    .dataframe tbody tr th {\n        vertical-align: top;\n    }\n\n    .dataframe thead th {\n        text-align: right;\n    }\n</style>\n<table border=\"1\" class=\"dataframe\">\n  <thead>\n    <tr style=\"text-align: right;\">\n      <th></th>\n      <th>Jobs ID</th>\n      <th>Profit</th>\n      <th>Deadline</th>\n    </tr>\n  </thead>\n  <tbody>\n    <tr>\n      <th>0</th>\n      <td>1</td>\n      <td>20</td>\n      <td>2</td>\n    </tr>\n    <tr>\n      <th>1</th>\n      <td>2</td>\n      <td>15</td>\n      <td>2</td>\n    </tr>\n    <tr>\n      <th>2</th>\n      <td>3</td>\n      <td>10</td>\n      <td>1</td>\n    </tr>\n    <tr>\n      <th>3</th>\n      <td>4</td>\n      <td>5</td>\n      <td>3</td>\n    </tr>\n    <tr>\n      <th>4</th>\n      <td>5</td>\n      <td>1</td>\n      <td>3</td>\n    </tr>\n  </tbody>\n</table>\n</div>"
     },
     "metadata": {},
     "output_type": "display_data"
    },
    {
     "name": "stdout",
     "output_type": "stream",
     "text": [
      "\n",
      "Time Slots available: 3\n"
     ]
    },
    {
     "data": {
      "text/plain": "     Job                      Slot Assigned   Sequence        Profit\n0  Job-1                                1-2     [2, 1]   0 + 20 = 20\n1  Job-2                                0-1        [2]  20 + 15 = 35\n2  Job-3  Rejected as deadline can’t be met        [2]            35\n3  Job-4                                2-3  [2, 1, 4]   35 + 5 = 40\n4  Job-5  Rejected as deadline can’t be met  [2, 1, 4]            40",
      "text/html": "<div>\n<style scoped>\n    .dataframe tbody tr th:only-of-type {\n        vertical-align: middle;\n    }\n\n    .dataframe tbody tr th {\n        vertical-align: top;\n    }\n\n    .dataframe thead th {\n        text-align: right;\n    }\n</style>\n<table border=\"1\" class=\"dataframe\">\n  <thead>\n    <tr style=\"text-align: right;\">\n      <th></th>\n      <th>Job</th>\n      <th>Slot Assigned</th>\n      <th>Sequence</th>\n      <th>Profit</th>\n    </tr>\n  </thead>\n  <tbody>\n    <tr>\n      <th>0</th>\n      <td>Job-1</td>\n      <td>1-2</td>\n      <td>[2, 1]</td>\n      <td>0 + 20 = 20</td>\n    </tr>\n    <tr>\n      <th>1</th>\n      <td>Job-2</td>\n      <td>0-1</td>\n      <td>[2]</td>\n      <td>20 + 15 = 35</td>\n    </tr>\n    <tr>\n      <th>2</th>\n      <td>Job-3</td>\n      <td>Rejected as deadline can’t be met</td>\n      <td>[2]</td>\n      <td>35</td>\n    </tr>\n    <tr>\n      <th>3</th>\n      <td>Job-4</td>\n      <td>2-3</td>\n      <td>[2, 1, 4]</td>\n      <td>35 + 5 = 40</td>\n    </tr>\n    <tr>\n      <th>4</th>\n      <td>Job-5</td>\n      <td>Rejected as deadline can’t be met</td>\n      <td>[2, 1, 4]</td>\n      <td>40</td>\n    </tr>\n  </tbody>\n</table>\n</div>"
     },
     "metadata": {},
     "output_type": "display_data"
    },
    {
     "name": "stdout",
     "output_type": "stream",
     "text": [
      "\n",
      "Job Sequence is [2, 1, 4]\n",
      "\n",
      "Maximum Profit is 40\n"
     ]
    }
   ],
   "source": [
    "job_id = [1,2,3,4,5]\n",
    "profit = [20,15,10,5,1]\n",
    "deadline = [2,2,1,3,3]\n",
    "timeslots=3\n",
    "job_sequencing(job_id, profit, deadline, timeslots)"
   ],
   "metadata": {
    "collapsed": false,
    "pycharm": {
     "name": "#%%\n"
    }
   }
  }
 ],
 "metadata": {
  "kernelspec": {
   "display_name": "Python 3",
   "language": "python",
   "name": "python3"
  },
  "language_info": {
   "codemirror_mode": {
    "name": "ipython",
    "version": 2
   },
   "file_extension": ".py",
   "mimetype": "text/x-python",
   "name": "python",
   "nbconvert_exporter": "python",
   "pygments_lexer": "ipython2",
   "version": "2.7.6"
  }
 },
 "nbformat": 4,
 "nbformat_minor": 0
}