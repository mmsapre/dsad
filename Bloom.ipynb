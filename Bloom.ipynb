{
 "cells": [
  {
   "cell_type": "code",
   "execution_count": 5,
   "metadata": {
    "collapsed": true
   },
   "outputs": [],
   "source": [
    "import numpy as np\n",
    "from sympy import *\n",
    "import warnings\n",
    "warnings.filterwarnings('ignore')"
   ]
  },
  {
   "cell_type": "code",
   "execution_count": 6,
   "outputs": [],
   "source": [
    "class Bloom:\n",
    "    def __init__(self, **kwargs):\n",
    "        #self.input_data = kwargs.get('input_data')\n",
    "        self.N = kwargs.get('N')\n",
    "        self.bit_array = [0]*self.N\n",
    "        self.hash_funcs = []\n",
    "        for k,v in kwargs.items():\n",
    "            if k.startswith('k'):\n",
    "                self.hash_funcs.append(v)\n",
    "        self.generate_hash_functions()\n",
    "        self.inserted_elements = []\n",
    "\n",
    "    def generate_hash_functions(self):\n",
    "        self.sym =symbols('x n')\n",
    "        self.hash_funcs_expr = [parse_expr(e) for e in self.hash_funcs]\n",
    "\n",
    "    def display_hash_functions(self):\n",
    "        for i, expr in enumerate(self.hash_funcs_expr):\n",
    "            display(Eq(Symbol(f'k{i+1}'), expr))\n",
    "\n",
    "    def insert(self, input_data):\n",
    "        print('Input data:')\n",
    "        display(Matrix(input_data))\n",
    "\n",
    "        print('\\nBit Array:')\n",
    "        display(Matrix(self.bit_array))\n",
    "\n",
    "        for e in input_data:\n",
    "            print(f'\\nInsert: {e}')\n",
    "            self.inserted_elements.append(e)\n",
    "            if isinstance(e, str):\n",
    "                e = self.convert_string_to_numeric(e)\n",
    "            display(Eq(Symbol('x'), e))\n",
    "            display(Eq(Symbol('n'), self.N))\n",
    "            for i, expr in enumerate(self.hash_funcs_expr):\n",
    "                display(Eq(Symbol(f'k{i+1}'), expr))\n",
    "                expr_val = expr.subs([(self.sym[0], e), (self.sym[1], self.N)])\n",
    "                display(Eq(Symbol(f'k{i+1}'), expr_val))\n",
    "                print(f'So we change bit {expr_val} in bit array to 1\\n')\n",
    "                self.bit_array[expr_val] = 1\n",
    "            print('\\nBit Array:')\n",
    "            display(Matrix(self.bit_array))\n",
    "\n",
    "    def convert_string_to_numeric(self, exp):\n",
    "        print('\\nConverting string value to numeric\\n')\n",
    "        val = 0\n",
    "        for x in exp:\n",
    "            val +=ord(x)\n",
    "        return val\n",
    "\n",
    "    def find_element(self, element):\n",
    "        print(f'Searching element {element}\\n')\n",
    "        if isinstance(element, str):\n",
    "            e = self.convert_string_to_numeric(element)\n",
    "        display(Eq(Symbol('x'), element))\n",
    "        display(Eq(Symbol('n'), self.N))\n",
    "        hash_list = []\n",
    "        bit_list = []\n",
    "        for i, expr in enumerate(self.hash_funcs_expr):\n",
    "                display(Eq(Symbol(f'k{i+1}'), expr))\n",
    "                expr_val = expr.subs([(self.sym[0], element), (self.sym[1], self.N)])\n",
    "                display(Eq(Symbol(f'k{i+1}'), expr_val))\n",
    "                hash_list.append(expr_val)\n",
    "                bit_list.append(self.bit_array[expr_val])\n",
    "        print('\\nBit Array:')\n",
    "        display(Matrix(self.bit_array))\n",
    "        print(f\"\\nHash Function values are {','.join([str(s) for s in hash_list])}\")\n",
    "        print(f\"\\nCorresponding bits in bit array areare {','.join([str(s) for s in bit_list])}\")\n",
    "\n",
    "        present = np.all(np.array(bit_list) == 1)\n",
    "\n",
    "\n",
    "        if present:\n",
    "            print(f'\\n{element} is probably in the table')\n",
    "        else:\n",
    "            print(f'\\n{element} is definitely not in the table')\n",
    "\n",
    "    def cal_false_positive_probability(self):\n",
    "        m = len(self.bit_array)\n",
    "        n = len(self.inserted_elements)\n",
    "        k = len(self.hash_funcs)\n",
    "        sym = symbols('m n k')\n",
    "        fp_expr = parse_expr('(1-(1-1/m)**(k*n))**k')\n",
    "        display(Eq(Symbol('P'),fp_expr))\n",
    "        print('\\nWhere\\n')\n",
    "        display(Eq(Symbol('m'),m))\n",
    "        display(Eq(Symbol('n'),n))\n",
    "        display(Eq(Symbol('k'),k))\n",
    "        fp_expr_val = fp_expr.subs([(sym[0], m), (sym[1], n), (sym[2], k)])\n",
    "        display(Eq(Symbol('P'),N(fp_expr_val,4)))"
   ],
   "metadata": {
    "collapsed": false,
    "pycharm": {
     "name": "#%%\n"
    }
   }
  },
  {
   "cell_type": "code",
   "execution_count": 7,
   "outputs": [],
   "source": [
    "bl = Bloom(N=7, k1 = '(13-(x % 13)) % n', k2 = '(3 + 5*x) % n')"
   ],
   "metadata": {
    "collapsed": false,
    "pycharm": {
     "name": "#%%\n"
    }
   }
  },
  {
   "cell_type": "code",
   "execution_count": 8,
   "outputs": [
    {
     "data": {
      "text/plain": "Eq(k1, Mod(13 - Mod(x, 13), n))",
      "text/latex": "$\\displaystyle k_{1} = \\left(13 - \\left(x \\bmod 13\\right)\\right) \\bmod n$"
     },
     "metadata": {},
     "output_type": "display_data"
    },
    {
     "data": {
      "text/plain": "Eq(k2, Mod(5*x + 3, n))",
      "text/latex": "$\\displaystyle k_{2} = \\left(5 x + 3\\right) \\bmod n$"
     },
     "metadata": {},
     "output_type": "display_data"
    }
   ],
   "source": [
    "bl.display_hash_functions()"
   ],
   "metadata": {
    "collapsed": false,
    "pycharm": {
     "name": "#%%\n"
    }
   }
  }
 ],
 "metadata": {
  "kernelspec": {
   "display_name": "Python 3",
   "language": "python",
   "name": "python3"
  },
  "language_info": {
   "codemirror_mode": {
    "name": "ipython",
    "version": 2
   },
   "file_extension": ".py",
   "mimetype": "text/x-python",
   "name": "python",
   "nbconvert_exporter": "python",
   "pygments_lexer": "ipython2",
   "version": "2.7.6"
  }
 },
 "nbformat": 4,
 "nbformat_minor": 0
}